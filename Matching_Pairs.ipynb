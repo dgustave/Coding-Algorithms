{
 "cells": [
  {
   "cell_type": "code",
   "execution_count": 784,
   "metadata": {},
   "outputs": [],
   "source": [
    "n = 8\n",
    "ar = [2, 2, 3, 4, 2, 2, 5, 2]\n",
    "# myDict = {i:ar.count(i) for i in ar} \n",
    "myDict = {}"
   ]
  },
  {
   "cell_type": "markdown",
   "metadata": {},
   "source": [
    "1) Create an empty hash table/Dictionary in Python\n",
    "2) Store frequencies of all elements. \n",
    "3) Traverse through the hash table. For every element, find its frequency. Increment the result by frequency/2 for every element,"
   ]
  },
  {
   "cell_type": "code",
   "execution_count": 791,
   "metadata": {},
   "outputs": [],
   "source": [
    "pairs = 0\n",
    "for i in range(n): \n",
    "    for s in ar:\n",
    "        myDict[s] = ar.count(s)\n",
    "        if myDict[s]%2 != 0:\n",
    "            myDict[s] = myDict[s] - 1\n",
    "# using loop to iterate through all keys \n",
    "for x, y in myDict.items():\n",
    "    if myDict[x]%2 == 0:\n",
    "        pairs += myDict[x]/2\n",
    "            "
   ]
  },
  {
   "cell_type": "code",
   "execution_count": 792,
   "metadata": {},
   "outputs": [
    {
     "data": {
      "text/plain": [
       "2.0"
      ]
     },
     "execution_count": 792,
     "metadata": {},
     "output_type": "execute_result"
    }
   ],
   "source": [
    "pairs"
   ]
  },
  {
   "cell_type": "code",
   "execution_count": 793,
   "metadata": {},
   "outputs": [
    {
     "data": {
      "text/plain": [
       "{2: 4, 3: 0, 4: 0, 5: 0}"
      ]
     },
     "execution_count": 793,
     "metadata": {},
     "output_type": "execute_result"
    }
   ],
   "source": [
    "myDict"
   ]
  },
  {
   "cell_type": "markdown",
   "metadata": {},
   "source": [
    "Sort the given array so that all the equal elements are adjacent to each other. Now, traverse the array and for every element if it equal to the element next to it then it is a valid pair and skip these two elements. Else the current element doesn’t make a valid pair with any other element and hence only skip the current element."
   ]
  },
  {
   "cell_type": "code",
   "execution_count": 716,
   "metadata": {},
   "outputs": [],
   "source": [
    "# To store the required count\n",
    "count = 0\n",
    "\n",
    "# Sort the original array\n",
    "ar.sort()\n",
    "i = 0\n",
    "while i < (n-1):\n",
    "    # A valid pair is found\n",
    "    if (ar[i] == ar[i + 1]):\n",
    "        count += 1\n",
    "\n",
    "        # Skip the elements of\n",
    "        # the current pair\n",
    "        i = i + 2\n",
    "\n",
    "    # Current elements doesn't make\n",
    "    # a valid pair with any other element\n",
    "    else:\n",
    "        i += 1"
   ]
  },
  {
   "cell_type": "code",
   "execution_count": null,
   "metadata": {},
   "outputs": [],
   "source": []
  }
 ],
 "metadata": {
  "kernelspec": {
   "display_name": "Python 3",
   "language": "python",
   "name": "python3"
  },
  "language_info": {
   "codemirror_mode": {
    "name": "ipython",
    "version": 3
   },
   "file_extension": ".py",
   "mimetype": "text/x-python",
   "name": "python",
   "nbconvert_exporter": "python",
   "pygments_lexer": "ipython3",
   "version": "3.8.5"
  }
 },
 "nbformat": 4,
 "nbformat_minor": 4
}
